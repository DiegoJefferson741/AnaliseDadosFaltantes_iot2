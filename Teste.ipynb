{
  "nbformat": 4,
  "nbformat_minor": 0,
  "metadata": {
    "colab": {
      "provenance": []
    },
    "kernelspec": {
      "name": "python3",
      "display_name": "Python 3"
    },
    "language_info": {
      "name": "python"
    }
  },
  "cells": [
    {
      "cell_type": "code",
      "source": [
        "import pandas as pd\n",
        "import matplotlib.pyplot as plt\n",
        "from matplotlib.patches import Rectangle\n",
        "import matplotlib.dates as mdates\n",
        "import numpy as np"
      ],
      "metadata": {
        "id": "tNLR3-M3GPdu"
      },
      "execution_count": 10,
      "outputs": []
    },
    {
      "cell_type": "code",
      "source": [
        "import matplotlib\n",
        "import sklearn\n",
        "import statsmodels as sm\n",
        "\n",
        "print(f'''\n",
        "pandas -> {pd.__version__}\n",
        "numpy -> {np.__version__}\n",
        "matplotlob -> {matplotlib.__version__}\n",
        "statsmodels -> {sm.__version__}\n",
        "scikit-learn -> {sklearn.__version__}\n",
        "''')"
      ],
      "metadata": {
        "colab": {
          "base_uri": "https://localhost:8080/"
        },
        "id": "D45RyWd_GYps",
        "outputId": "f780a655-6a7d-4faa-f50d-ea208dc955cc"
      },
      "execution_count": 11,
      "outputs": [
        {
          "output_type": "stream",
          "name": "stdout",
          "text": [
            "\n",
            "pandas -> 1.3.5\n",
            "numpy -> 1.21.6\n",
            "matplotlob -> 3.2.2\n",
            "statsmodels -> 0.12.2\n",
            "scikit-learn -> 1.0.2\n",
            "\n"
          ]
        }
      ]
    },
    {
      "cell_type": "code",
      "source": [
        "def read_dataset(url, date_col):\n",
        "    '''\n",
        "     date_col: especifica uma coluna de data para ser usada como coluna de índice\n",
        "    \n",
        "    Por praticidade e pela possibilidade de executar este notebook na Nuvem, opta-se pela utilização de \n",
        "    URL's para obter o dataset. Caso você queira utilizar datasets localmente em sua máquina, comente \n",
        "    as linhas abaixo que não estão comentadas e descomente as que estão comentadas'''\n",
        "    df = pd.read_csv(url, \n",
        "                     index_col=date_col, \n",
        "                     parse_dates=[date_col])\n",
        "    '''\n",
        "    #dir: é um objeto de Path #(necessário importar a biblioteca: from pathlib import Path) \n",
        "    #arquivo: o nome do arquivo CSV no objeto Path\n",
        "\n",
        "   \n",
        "    df = pd.read_csv(folder / file, \n",
        "                     index_col=date_col, \n",
        "                     parse_dates=[date_col])\n",
        "    '''\n",
        "    \n",
        "    #  retorna: pandas DataFrame com um DatetimeIndex\n",
        "    return df"
      ],
      "metadata": {
        "id": "N4LV867AGmqt"
      },
      "execution_count": 12,
      "outputs": []
    },
    {
      "cell_type": "code",
      "source": [
        "def plot_df(df1, df2, col, titulo=None, xlabel=None, ylabel=None):\n",
        "    '''\t\n",
        "    df1: dataframe original (sem dados faltantes)\n",
        "    df2: dataframe com dados faltantes\n",
        "    col: nome da coluna que contém dados faltantes\n",
        "    '''    \n",
        "    df_f = df2.rename(columns={col: 'faltante'})\n",
        "    \n",
        "    colunas = df_f.loc[:, 'faltante':].columns.tolist()\n",
        "    subplots_t = len(colunas)\n",
        "   \n",
        "    fig, ax = plt.subplots(subplots_t+1, 1, sharex=True)\n",
        "    plt.subplots_adjust(hspace=0.25)\n",
        "    fig.suptitle = titulo \n",
        "    \n",
        "    df1[col].plot(ax=ax[0], figsize=(10, 16))\n",
        "    ax[0].set_title('Dataset Original')\n",
        "    ax[0].set_xlabel(xlabel)\n",
        "    ax[0].set_ylabel(ylabel)    \n",
        "    \n",
        "    for i, nomecol in enumerate(colunas):\n",
        "        df_f[nomecol].plot(ax=ax[i+1])\n",
        "        ax[i+1].set_title(nomecol)\n",
        "\n",
        "    plt.show()"
      ],
      "metadata": {
        "id": "YXko-nMoGqwJ"
      },
      "execution_count": 13,
      "outputs": []
    },
    {
      "cell_type": "code",
      "source": [
        "def indice_rmse(df1, df2, col=None):\n",
        "    '''\n",
        "    df1: dataframe original (sem dados faltantes)\n",
        "    df2: dataframe com dados faltantes\n",
        "    col: nome da coluna que contém dados faltantes\n",
        "\n",
        "    retorna: a lista de índices\n",
        "    '''\n",
        "    df_f = df2.rename(columns={col: 'faltante'})\n",
        "    colunas = df_f.loc[:, 'faltante':].columns.tolist()\n",
        "    scores = []\n",
        "    for comp_col in df_f[1:]:\n",
        "        rmse = np.sqrt(np.mean((df1[col] - df_f[comp_col])**2))\n",
        "        scores.append(rmse)\n",
        "        print(f'RMSE de {comp_col}: {rmse}')\n",
        "    return scores"
      ],
      "metadata": {
        "id": "8AvIR8mLGqq9"
      },
      "execution_count": 14,
      "outputs": []
    },
    {
      "cell_type": "code",
      "source": [],
      "metadata": {
        "id": "9eIjTyfkGqjk"
      },
      "execution_count": null,
      "outputs": []
    },
    {
      "cell_type": "code",
      "source": [],
      "metadata": {
        "id": "M-K7ihhgGqZ0"
      },
      "execution_count": null,
      "outputs": []
    },
    {
      "cell_type": "code",
      "source": [],
      "metadata": {
        "id": "uAmKH_OfGqKk"
      },
      "execution_count": null,
      "outputs": []
    },
    {
      "cell_type": "code",
      "execution_count": 15,
      "metadata": {
        "id": "VFhCBMcVFhLY"
      },
      "outputs": [],
      "source": [
        "import pandas as pd\n",
        "import matplotlib.pyplot as plt\n",
        "from sklearn.impute import SimpleImputer"
      ]
    },
    {
      "cell_type": "code",
      "source": [
        "co2_original = pd.read_csv('https://raw.githubusercontent.com/mvscti/GTI04019-COMPUTACAO_EM_NUVEM_E_IOT_II/dados_faltantes/dados_faltantes/datasets/co2_original.csv', index_col=0)\n",
        "co2_faltante = pd.read_csv('https://raw.githubusercontent.com/mvscti/GTI04019-COMPUTACAO_EM_NUVEM_E_IOT_II/dados_faltantes/dados_faltantes/datasets/co2_missing_only.csv', index_col=0)\n",
        "clicks_original = pd.read_csv('https://raw.githubusercontent.com/mvscti/GTI04019-COMPUTACAO_EM_NUVEM_E_IOT_II/dados_faltantes/dados_faltantes/datasets/clicks_original.csv', index_col=0)\n",
        "clicks_faltante = pd.read_csv('https://raw.githubusercontent.com/mvscti/GTI04019-COMPUTACAO_EM_NUVEM_E_IOT_II/dados_faltantes/dados_faltantes/datasets/clicks_missing.csv', index_col=0)"
      ],
      "metadata": {
        "id": "0OeHZdgmFtSt"
      },
      "execution_count": 16,
      "outputs": []
    },
    {
      "cell_type": "code",
      "source": [
        "##### Verificando os valores e colunas #####\n",
        "\n",
        "#print(OderEncFit.isna().any()) # Exibe como True ou False os valores nan do Dataframe\n",
        "#print(OderEncFit.isna().sum()) # Exibe a soma dos valores nan no Dataframe\n",
        "#clicks_faltante.head()\n",
        "#OderEncFit.info(verbose=True)\n",
        "#print(OderEncFit.info())\n",
        "clicks_faltante.shape\n",
        "#OderEncFit.isna().sum()\n",
        "#OderEncFit.isnull().sum()"
      ],
      "metadata": {
        "colab": {
          "base_uri": "https://localhost:8080/"
        },
        "id": "NhQwx_p9Iwvc",
        "outputId": "cb1e9b44-d939-47e6-c95f-2e8cb3c430c2"
      },
      "execution_count": 29,
      "outputs": [
        {
          "output_type": "execute_result",
          "data": {
            "text/plain": [
              "(135, 6)"
            ]
          },
          "metadata": {},
          "execution_count": 29
        }
      ]
    },
    {
      "cell_type": "code",
      "source": [
        "display(clicks_original) # Exibe o Dataframe"
      ],
      "metadata": {
        "colab": {
          "base_uri": "https://localhost:8080/",
          "height": 455
        },
        "id": "anH1-BFmF1Te",
        "outputId": "865f9a8f-0937-41b2-d8cc-82263554df4b"
      },
      "execution_count": 17,
      "outputs": [
        {
          "output_type": "display_data",
          "data": {
            "text/plain": [
              "             price  location  clicks\n",
              "date                                \n",
              "4/1/08   43.155647         2   18784\n",
              "4/2/08   43.079056         1   24738\n",
              "4/3/08   43.842609         2   15209\n",
              "4/4/08   43.312376         1   14018\n",
              "4/5/08   43.941176         1   11974\n",
              "...            ...       ...     ...\n",
              "8/9/08   44.182033         1    6716\n",
              "8/10/08  43.608260         1    9523\n",
              "8/11/08  43.553363         1    8881\n",
              "8/12/08  44.500469         1    7272\n",
              "8/13/08  42.751295         1    2922\n",
              "\n",
              "[135 rows x 3 columns]"
            ],
            "text/html": [
              "\n",
              "  <div id=\"df-bbf0680c-d373-4b9c-9bec-ea98744066b2\">\n",
              "    <div class=\"colab-df-container\">\n",
              "      <div>\n",
              "<style scoped>\n",
              "    .dataframe tbody tr th:only-of-type {\n",
              "        vertical-align: middle;\n",
              "    }\n",
              "\n",
              "    .dataframe tbody tr th {\n",
              "        vertical-align: top;\n",
              "    }\n",
              "\n",
              "    .dataframe thead th {\n",
              "        text-align: right;\n",
              "    }\n",
              "</style>\n",
              "<table border=\"1\" class=\"dataframe\">\n",
              "  <thead>\n",
              "    <tr style=\"text-align: right;\">\n",
              "      <th></th>\n",
              "      <th>price</th>\n",
              "      <th>location</th>\n",
              "      <th>clicks</th>\n",
              "    </tr>\n",
              "    <tr>\n",
              "      <th>date</th>\n",
              "      <th></th>\n",
              "      <th></th>\n",
              "      <th></th>\n",
              "    </tr>\n",
              "  </thead>\n",
              "  <tbody>\n",
              "    <tr>\n",
              "      <th>4/1/08</th>\n",
              "      <td>43.155647</td>\n",
              "      <td>2</td>\n",
              "      <td>18784</td>\n",
              "    </tr>\n",
              "    <tr>\n",
              "      <th>4/2/08</th>\n",
              "      <td>43.079056</td>\n",
              "      <td>1</td>\n",
              "      <td>24738</td>\n",
              "    </tr>\n",
              "    <tr>\n",
              "      <th>4/3/08</th>\n",
              "      <td>43.842609</td>\n",
              "      <td>2</td>\n",
              "      <td>15209</td>\n",
              "    </tr>\n",
              "    <tr>\n",
              "      <th>4/4/08</th>\n",
              "      <td>43.312376</td>\n",
              "      <td>1</td>\n",
              "      <td>14018</td>\n",
              "    </tr>\n",
              "    <tr>\n",
              "      <th>4/5/08</th>\n",
              "      <td>43.941176</td>\n",
              "      <td>1</td>\n",
              "      <td>11974</td>\n",
              "    </tr>\n",
              "    <tr>\n",
              "      <th>...</th>\n",
              "      <td>...</td>\n",
              "      <td>...</td>\n",
              "      <td>...</td>\n",
              "    </tr>\n",
              "    <tr>\n",
              "      <th>8/9/08</th>\n",
              "      <td>44.182033</td>\n",
              "      <td>1</td>\n",
              "      <td>6716</td>\n",
              "    </tr>\n",
              "    <tr>\n",
              "      <th>8/10/08</th>\n",
              "      <td>43.608260</td>\n",
              "      <td>1</td>\n",
              "      <td>9523</td>\n",
              "    </tr>\n",
              "    <tr>\n",
              "      <th>8/11/08</th>\n",
              "      <td>43.553363</td>\n",
              "      <td>1</td>\n",
              "      <td>8881</td>\n",
              "    </tr>\n",
              "    <tr>\n",
              "      <th>8/12/08</th>\n",
              "      <td>44.500469</td>\n",
              "      <td>1</td>\n",
              "      <td>7272</td>\n",
              "    </tr>\n",
              "    <tr>\n",
              "      <th>8/13/08</th>\n",
              "      <td>42.751295</td>\n",
              "      <td>1</td>\n",
              "      <td>2922</td>\n",
              "    </tr>\n",
              "  </tbody>\n",
              "</table>\n",
              "<p>135 rows × 3 columns</p>\n",
              "</div>\n",
              "      <button class=\"colab-df-convert\" onclick=\"convertToInteractive('df-bbf0680c-d373-4b9c-9bec-ea98744066b2')\"\n",
              "              title=\"Convert this dataframe to an interactive table.\"\n",
              "              style=\"display:none;\">\n",
              "        \n",
              "  <svg xmlns=\"http://www.w3.org/2000/svg\" height=\"24px\"viewBox=\"0 0 24 24\"\n",
              "       width=\"24px\">\n",
              "    <path d=\"M0 0h24v24H0V0z\" fill=\"none\"/>\n",
              "    <path d=\"M18.56 5.44l.94 2.06.94-2.06 2.06-.94-2.06-.94-.94-2.06-.94 2.06-2.06.94zm-11 1L8.5 8.5l.94-2.06 2.06-.94-2.06-.94L8.5 2.5l-.94 2.06-2.06.94zm10 10l.94 2.06.94-2.06 2.06-.94-2.06-.94-.94-2.06-.94 2.06-2.06.94z\"/><path d=\"M17.41 7.96l-1.37-1.37c-.4-.4-.92-.59-1.43-.59-.52 0-1.04.2-1.43.59L10.3 9.45l-7.72 7.72c-.78.78-.78 2.05 0 2.83L4 21.41c.39.39.9.59 1.41.59.51 0 1.02-.2 1.41-.59l7.78-7.78 2.81-2.81c.8-.78.8-2.07 0-2.86zM5.41 20L4 18.59l7.72-7.72 1.47 1.35L5.41 20z\"/>\n",
              "  </svg>\n",
              "      </button>\n",
              "      \n",
              "  <style>\n",
              "    .colab-df-container {\n",
              "      display:flex;\n",
              "      flex-wrap:wrap;\n",
              "      gap: 12px;\n",
              "    }\n",
              "\n",
              "    .colab-df-convert {\n",
              "      background-color: #E8F0FE;\n",
              "      border: none;\n",
              "      border-radius: 50%;\n",
              "      cursor: pointer;\n",
              "      display: none;\n",
              "      fill: #1967D2;\n",
              "      height: 32px;\n",
              "      padding: 0 0 0 0;\n",
              "      width: 32px;\n",
              "    }\n",
              "\n",
              "    .colab-df-convert:hover {\n",
              "      background-color: #E2EBFA;\n",
              "      box-shadow: 0px 1px 2px rgba(60, 64, 67, 0.3), 0px 1px 3px 1px rgba(60, 64, 67, 0.15);\n",
              "      fill: #174EA6;\n",
              "    }\n",
              "\n",
              "    [theme=dark] .colab-df-convert {\n",
              "      background-color: #3B4455;\n",
              "      fill: #D2E3FC;\n",
              "    }\n",
              "\n",
              "    [theme=dark] .colab-df-convert:hover {\n",
              "      background-color: #434B5C;\n",
              "      box-shadow: 0px 1px 3px 1px rgba(0, 0, 0, 0.15);\n",
              "      filter: drop-shadow(0px 1px 2px rgba(0, 0, 0, 0.3));\n",
              "      fill: #FFFFFF;\n",
              "    }\n",
              "  </style>\n",
              "\n",
              "      <script>\n",
              "        const buttonEl =\n",
              "          document.querySelector('#df-bbf0680c-d373-4b9c-9bec-ea98744066b2 button.colab-df-convert');\n",
              "        buttonEl.style.display =\n",
              "          google.colab.kernel.accessAllowed ? 'block' : 'none';\n",
              "\n",
              "        async function convertToInteractive(key) {\n",
              "          const element = document.querySelector('#df-bbf0680c-d373-4b9c-9bec-ea98744066b2');\n",
              "          const dataTable =\n",
              "            await google.colab.kernel.invokeFunction('convertToInteractive',\n",
              "                                                     [key], {});\n",
              "          if (!dataTable) return;\n",
              "\n",
              "          const docLinkHtml = 'Like what you see? Visit the ' +\n",
              "            '<a target=\"_blank\" href=https://colab.research.google.com/notebooks/data_table.ipynb>data table notebook</a>'\n",
              "            + ' to learn more about interactive tables.';\n",
              "          element.innerHTML = '';\n",
              "          dataTable['output_type'] = 'display_data';\n",
              "          await google.colab.output.renderOutput(dataTable, element);\n",
              "          const docLink = document.createElement('div');\n",
              "          docLink.innerHTML = docLinkHtml;\n",
              "          element.appendChild(docLink);\n",
              "        }\n",
              "      </script>\n",
              "    </div>\n",
              "  </div>\n",
              "  "
            ]
          },
          "metadata": {}
        }
      ]
    },
    {
      "cell_type": "code",
      "source": [
        "display(clicks_faltante) # Exibe o Dataframe"
      ],
      "metadata": {
        "colab": {
          "base_uri": "https://localhost:8080/",
          "height": 455
        },
        "id": "fwpZLwIBF3k1",
        "outputId": "2092a722-9095-449d-9fbb-103dbeb002b2"
      },
      "execution_count": 18,
      "outputs": [
        {
          "output_type": "display_data",
          "data": {
            "text/plain": [
              "             price  location   clicks\n",
              "date                                 \n",
              "4/1/08   43.155647         2  18784.0\n",
              "4/2/08   43.079056         1  24738.0\n",
              "4/3/08   43.842609         2  15209.0\n",
              "4/4/08   43.312376         1  14018.0\n",
              "4/5/08   43.941176         1  11974.0\n",
              "...            ...       ...      ...\n",
              "8/9/08   44.182033         1   6716.0\n",
              "8/10/08  43.608260         1   9523.0\n",
              "8/11/08  43.553363         1   8881.0\n",
              "8/12/08  44.500469         1   7272.0\n",
              "8/13/08  42.751295         1   2922.0\n",
              "\n",
              "[135 rows x 3 columns]"
            ],
            "text/html": [
              "\n",
              "  <div id=\"df-dc775ba6-0fc3-4fc2-88ce-f4c1cba03d42\">\n",
              "    <div class=\"colab-df-container\">\n",
              "      <div>\n",
              "<style scoped>\n",
              "    .dataframe tbody tr th:only-of-type {\n",
              "        vertical-align: middle;\n",
              "    }\n",
              "\n",
              "    .dataframe tbody tr th {\n",
              "        vertical-align: top;\n",
              "    }\n",
              "\n",
              "    .dataframe thead th {\n",
              "        text-align: right;\n",
              "    }\n",
              "</style>\n",
              "<table border=\"1\" class=\"dataframe\">\n",
              "  <thead>\n",
              "    <tr style=\"text-align: right;\">\n",
              "      <th></th>\n",
              "      <th>price</th>\n",
              "      <th>location</th>\n",
              "      <th>clicks</th>\n",
              "    </tr>\n",
              "    <tr>\n",
              "      <th>date</th>\n",
              "      <th></th>\n",
              "      <th></th>\n",
              "      <th></th>\n",
              "    </tr>\n",
              "  </thead>\n",
              "  <tbody>\n",
              "    <tr>\n",
              "      <th>4/1/08</th>\n",
              "      <td>43.155647</td>\n",
              "      <td>2</td>\n",
              "      <td>18784.0</td>\n",
              "    </tr>\n",
              "    <tr>\n",
              "      <th>4/2/08</th>\n",
              "      <td>43.079056</td>\n",
              "      <td>1</td>\n",
              "      <td>24738.0</td>\n",
              "    </tr>\n",
              "    <tr>\n",
              "      <th>4/3/08</th>\n",
              "      <td>43.842609</td>\n",
              "      <td>2</td>\n",
              "      <td>15209.0</td>\n",
              "    </tr>\n",
              "    <tr>\n",
              "      <th>4/4/08</th>\n",
              "      <td>43.312376</td>\n",
              "      <td>1</td>\n",
              "      <td>14018.0</td>\n",
              "    </tr>\n",
              "    <tr>\n",
              "      <th>4/5/08</th>\n",
              "      <td>43.941176</td>\n",
              "      <td>1</td>\n",
              "      <td>11974.0</td>\n",
              "    </tr>\n",
              "    <tr>\n",
              "      <th>...</th>\n",
              "      <td>...</td>\n",
              "      <td>...</td>\n",
              "      <td>...</td>\n",
              "    </tr>\n",
              "    <tr>\n",
              "      <th>8/9/08</th>\n",
              "      <td>44.182033</td>\n",
              "      <td>1</td>\n",
              "      <td>6716.0</td>\n",
              "    </tr>\n",
              "    <tr>\n",
              "      <th>8/10/08</th>\n",
              "      <td>43.608260</td>\n",
              "      <td>1</td>\n",
              "      <td>9523.0</td>\n",
              "    </tr>\n",
              "    <tr>\n",
              "      <th>8/11/08</th>\n",
              "      <td>43.553363</td>\n",
              "      <td>1</td>\n",
              "      <td>8881.0</td>\n",
              "    </tr>\n",
              "    <tr>\n",
              "      <th>8/12/08</th>\n",
              "      <td>44.500469</td>\n",
              "      <td>1</td>\n",
              "      <td>7272.0</td>\n",
              "    </tr>\n",
              "    <tr>\n",
              "      <th>8/13/08</th>\n",
              "      <td>42.751295</td>\n",
              "      <td>1</td>\n",
              "      <td>2922.0</td>\n",
              "    </tr>\n",
              "  </tbody>\n",
              "</table>\n",
              "<p>135 rows × 3 columns</p>\n",
              "</div>\n",
              "      <button class=\"colab-df-convert\" onclick=\"convertToInteractive('df-dc775ba6-0fc3-4fc2-88ce-f4c1cba03d42')\"\n",
              "              title=\"Convert this dataframe to an interactive table.\"\n",
              "              style=\"display:none;\">\n",
              "        \n",
              "  <svg xmlns=\"http://www.w3.org/2000/svg\" height=\"24px\"viewBox=\"0 0 24 24\"\n",
              "       width=\"24px\">\n",
              "    <path d=\"M0 0h24v24H0V0z\" fill=\"none\"/>\n",
              "    <path d=\"M18.56 5.44l.94 2.06.94-2.06 2.06-.94-2.06-.94-.94-2.06-.94 2.06-2.06.94zm-11 1L8.5 8.5l.94-2.06 2.06-.94-2.06-.94L8.5 2.5l-.94 2.06-2.06.94zm10 10l.94 2.06.94-2.06 2.06-.94-2.06-.94-.94-2.06-.94 2.06-2.06.94z\"/><path d=\"M17.41 7.96l-1.37-1.37c-.4-.4-.92-.59-1.43-.59-.52 0-1.04.2-1.43.59L10.3 9.45l-7.72 7.72c-.78.78-.78 2.05 0 2.83L4 21.41c.39.39.9.59 1.41.59.51 0 1.02-.2 1.41-.59l7.78-7.78 2.81-2.81c.8-.78.8-2.07 0-2.86zM5.41 20L4 18.59l7.72-7.72 1.47 1.35L5.41 20z\"/>\n",
              "  </svg>\n",
              "      </button>\n",
              "      \n",
              "  <style>\n",
              "    .colab-df-container {\n",
              "      display:flex;\n",
              "      flex-wrap:wrap;\n",
              "      gap: 12px;\n",
              "    }\n",
              "\n",
              "    .colab-df-convert {\n",
              "      background-color: #E8F0FE;\n",
              "      border: none;\n",
              "      border-radius: 50%;\n",
              "      cursor: pointer;\n",
              "      display: none;\n",
              "      fill: #1967D2;\n",
              "      height: 32px;\n",
              "      padding: 0 0 0 0;\n",
              "      width: 32px;\n",
              "    }\n",
              "\n",
              "    .colab-df-convert:hover {\n",
              "      background-color: #E2EBFA;\n",
              "      box-shadow: 0px 1px 2px rgba(60, 64, 67, 0.3), 0px 1px 3px 1px rgba(60, 64, 67, 0.15);\n",
              "      fill: #174EA6;\n",
              "    }\n",
              "\n",
              "    [theme=dark] .colab-df-convert {\n",
              "      background-color: #3B4455;\n",
              "      fill: #D2E3FC;\n",
              "    }\n",
              "\n",
              "    [theme=dark] .colab-df-convert:hover {\n",
              "      background-color: #434B5C;\n",
              "      box-shadow: 0px 1px 3px 1px rgba(0, 0, 0, 0.15);\n",
              "      filter: drop-shadow(0px 1px 2px rgba(0, 0, 0, 0.3));\n",
              "      fill: #FFFFFF;\n",
              "    }\n",
              "  </style>\n",
              "\n",
              "      <script>\n",
              "        const buttonEl =\n",
              "          document.querySelector('#df-dc775ba6-0fc3-4fc2-88ce-f4c1cba03d42 button.colab-df-convert');\n",
              "        buttonEl.style.display =\n",
              "          google.colab.kernel.accessAllowed ? 'block' : 'none';\n",
              "\n",
              "        async function convertToInteractive(key) {\n",
              "          const element = document.querySelector('#df-dc775ba6-0fc3-4fc2-88ce-f4c1cba03d42');\n",
              "          const dataTable =\n",
              "            await google.colab.kernel.invokeFunction('convertToInteractive',\n",
              "                                                     [key], {});\n",
              "          if (!dataTable) return;\n",
              "\n",
              "          const docLinkHtml = 'Like what you see? Visit the ' +\n",
              "            '<a target=\"_blank\" href=https://colab.research.google.com/notebooks/data_table.ipynb>data table notebook</a>'\n",
              "            + ' to learn more about interactive tables.';\n",
              "          element.innerHTML = '';\n",
              "          dataTable['output_type'] = 'display_data';\n",
              "          await google.colab.output.renderOutput(dataTable, element);\n",
              "          const docLink = document.createElement('div');\n",
              "          docLink.innerHTML = docLinkHtml;\n",
              "          element.appendChild(docLink);\n",
              "        }\n",
              "      </script>\n",
              "    </div>\n",
              "  </div>\n",
              "  "
            ]
          },
          "metadata": {}
        }
      ]
    },
    {
      "cell_type": "code",
      "source": [
        "### Descobrir se tem valores vazios e a quantidade deles em cada coluna\n",
        "\n",
        "#print(train.isna().any()) # Exibe como True ou False os valores do Dataframe\n",
        "print(clicks_faltante.isna().sum()) # Exibe a soma dos valores no Dataframe"
      ],
      "metadata": {
        "colab": {
          "base_uri": "https://localhost:8080/"
        },
        "id": "tF3NRc5OF6S1",
        "outputId": "b9480b3d-37e3-4478-b879-5eb43c3bb1a2"
      },
      "execution_count": 19,
      "outputs": [
        {
          "output_type": "stream",
          "name": "stdout",
          "text": [
            "price        0\n",
            "location     0\n",
            "clicks      16\n",
            "dtype: int64\n"
          ]
        }
      ]
    },
    {
      "cell_type": "code",
      "source": [
        "print(clicks_faltante.isna().any()) # Exibe como True ou False os valores do Dataframe"
      ],
      "metadata": {
        "colab": {
          "base_uri": "https://localhost:8080/"
        },
        "id": "l7QPmP56F8iN",
        "outputId": "3d6d87d1-8e73-4d21-8bdd-7d3c647850a9"
      },
      "execution_count": 20,
      "outputs": [
        {
          "output_type": "stream",
          "name": "stdout",
          "text": [
            "price       False\n",
            "location    False\n",
            "clicks       True\n",
            "dtype: bool\n"
          ]
        }
      ]
    },
    {
      "cell_type": "code",
      "source": [
        "estrategia = [\n",
        "    ('Estratégia da média', 'mean'),\n",
        "    ('Estratégia da mediana', 'median'),\n",
        "    ('Estratégia do \"mais frequente\"', 'most_frequent')]"
      ],
      "metadata": {
        "id": "Faqk53PLF-wV"
      },
      "execution_count": 21,
      "outputs": []
    },
    {
      "cell_type": "code",
      "source": [
        "#Transformando o arranjo 1D (226,) para um array de forma 2d (226,1)\n",
        "clicks_valores = clicks_faltante['clicks'].values.reshape(-1,1)\n",
        "\n",
        "\n",
        "for s_name, s in estrategia:\n",
        "    clicks_faltante[s_name] = (SimpleImputer(strategy=s).fit_transform(clicks_valores)) "
      ],
      "metadata": {
        "id": "x13Z_i-PGChV"
      },
      "execution_count": 22,
      "outputs": []
    },
    {
      "cell_type": "code",
      "source": [
        "_ = indice_rmse(clicks_original, clicks_faltante, 'clicks')"
      ],
      "metadata": {
        "colab": {
          "base_uri": "https://localhost:8080/"
        },
        "id": "UuhGd6bXGE4G",
        "outputId": "a81ba3f1-8d9c-498f-d3a9-bad800aaed92"
      },
      "execution_count": 23,
      "outputs": [
        {
          "output_type": "stream",
          "name": "stdout",
          "text": [
            "RMSE de price: 10406.550235597697\n",
            "RMSE de location: 10444.288595172926\n",
            "RMSE de faltante: 0.0\n",
            "RMSE de Estratégia da média: 997.7600138929953\n",
            "RMSE de Estratégia da mediana: 959.3580492530756\n",
            "RMSE de Estratégia do \"mais frequente\": 1097.6425985146868\n"
          ]
        }
      ]
    }
  ]
}